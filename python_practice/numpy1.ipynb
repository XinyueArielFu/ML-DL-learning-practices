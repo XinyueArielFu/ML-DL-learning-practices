{
 "cells": [
  {
   "cell_type": "code",
   "execution_count": 5,
   "id": "a731761d",
   "metadata": {},
   "outputs": [],
   "source": [
    "%load_ext watermark"
   ]
  },
  {
   "cell_type": "code",
   "execution_count": 6,
   "id": "92e7e042",
   "metadata": {},
   "outputs": [
    {
     "name": "stdout",
     "output_type": "stream",
     "text": [
      "Author: Ariel\n",
      "\n",
      "Python implementation: CPython\n",
      "Python version       : 3.13.5\n",
      "IPython version      : 9.4.0\n",
      "\n",
      "numpy     : 2.3.2\n",
      "scipy     : 1.16.1\n",
      "matplotlib: 3.10.5\n",
      "\n"
     ]
    }
   ],
   "source": [
    "%watermark -v -a \"Ariel\" -p numpy,scipy,matplotlib"
   ]
  },
  {
   "cell_type": "markdown",
   "id": "f3cd2c7a",
   "metadata": {},
   "source": [
    "# 4.1: NumPy Basics"
   ]
  },
  {
   "cell_type": "code",
   "execution_count": 6,
   "id": "1b4bbc3b",
   "metadata": {},
   "outputs": [],
   "source": [
    "import numpy as np"
   ]
  },
  {
   "cell_type": "code",
   "execution_count": 5,
   "id": "15e82842",
   "metadata": {},
   "outputs": [
    {
     "data": {
      "text/plain": [
       "dtype('float64')"
      ]
     },
     "execution_count": 5,
     "metadata": {},
     "output_type": "execute_result"
    }
   ],
   "source": [
    "arr = [1., 2., 3.]\n",
    "arr1d = np.array(arr)\n",
    "arr1d.dtype"
   ]
  },
  {
   "cell_type": "code",
   "execution_count": 8,
   "id": "2a453e4a",
   "metadata": {},
   "outputs": [
    {
     "data": {
      "text/plain": [
       "dtype('float64')"
      ]
     },
     "execution_count": 8,
     "metadata": {},
     "output_type": "execute_result"
    }
   ],
   "source": [
    "arr1d.astype(np.int32)\n",
    "arr1d.dtype"
   ]
  },
  {
   "cell_type": "code",
   "execution_count": 11,
   "id": "0b626f1b",
   "metadata": {},
   "outputs": [
    {
     "data": {
      "text/plain": [
       "1"
      ]
     },
     "execution_count": 11,
     "metadata": {},
     "output_type": "execute_result"
    }
   ],
   "source": [
    "arr1d.ndim\n",
    "len(arr1d.shape)"
   ]
  },
  {
   "cell_type": "code",
   "execution_count": 10,
   "id": "17b93530",
   "metadata": {},
   "outputs": [
    {
     "data": {
      "text/plain": [
       "(3,)"
      ]
     },
     "execution_count": 10,
     "metadata": {},
     "output_type": "execute_result"
    }
   ],
   "source": [
    "arr1d.shape"
   ]
  },
  {
   "cell_type": "markdown",
   "id": "325e8048",
   "metadata": {},
   "source": [
    "# 4.2: NumPy Array Construction and Indexing"
   ]
  },
  {
   "cell_type": "code",
   "execution_count": 14,
   "id": "d79b76b5",
   "metadata": {},
   "outputs": [
    {
     "data": {
      "text/plain": [
       "array([[0., 0., 0.],\n",
       "       [0., 0., 0.],\n",
       "       [0., 0., 0.]])"
      ]
     },
     "execution_count": 14,
     "metadata": {},
     "output_type": "execute_result"
    }
   ],
   "source": [
    "np.ones((3, 4), dtype=np.int16)\n",
    "np.zeros((3, 3))"
   ]
  },
  {
   "cell_type": "code",
   "execution_count": 15,
   "id": "8c9eba60",
   "metadata": {},
   "outputs": [
    {
     "data": {
      "text/plain": [
       "array([[1., 0., 0., 0.],\n",
       "       [0., 1., 0., 0.],\n",
       "       [0., 0., 1., 0.],\n",
       "       [0., 0., 0., 1.]])"
      ]
     },
     "execution_count": 15,
     "metadata": {},
     "output_type": "execute_result"
    }
   ],
   "source": [
    "# identity matrix\n",
    "np.eye(4)"
   ]
  },
  {
   "cell_type": "code",
   "execution_count": 17,
   "id": "cd9e18a8",
   "metadata": {},
   "outputs": [
    {
     "data": {
      "text/plain": [
       "array([[1, 0, 0, 0],\n",
       "       [0, 2, 0, 0],\n",
       "       [0, 0, 3, 0],\n",
       "       [0, 0, 0, 4]])"
      ]
     },
     "execution_count": 17,
     "metadata": {},
     "output_type": "execute_result"
    }
   ],
   "source": [
    "# diagonal matrix\n",
    "np.diag((1,2,3,4))"
   ]
  },
  {
   "cell_type": "code",
   "execution_count": null,
   "id": "de875c26",
   "metadata": {},
   "outputs": [
    {
     "data": {
      "text/plain": [
       "array([], dtype=float64)"
      ]
     },
     "execution_count": 21,
     "metadata": {},
     "output_type": "execute_result"
    }
   ],
   "source": [
    "np.arange(3,10)\n",
    "np.arange(5)\n",
    "np.arange(1.,2., 0.1)\n",
    "# np.arange(1, 0.1)\n",
    "#   array([], dtype=float64) not working as expected"
   ]
  },
  {
   "cell_type": "code",
   "execution_count": 24,
   "id": "ef0cb6ed",
   "metadata": {},
   "outputs": [
    {
     "data": {
      "text/plain": [
       "array([0.  , 0.25, 0.5 , 0.75, 1.  ])"
      ]
     },
     "execution_count": 24,
     "metadata": {},
     "output_type": "execute_result"
    }
   ],
   "source": [
    "np.linspace(0,1,num=5)"
   ]
  },
  {
   "cell_type": "markdown",
   "id": "4b6887b6",
   "metadata": {},
   "source": [
    "# 4.3: NumPy Array Math and Universal Functions"
   ]
  }
 ],
 "metadata": {
  "kernelspec": {
   "display_name": "venv",
   "language": "python",
   "name": "python3"
  },
  "language_info": {
   "codemirror_mode": {
    "name": "ipython",
    "version": 3
   },
   "file_extension": ".py",
   "mimetype": "text/x-python",
   "name": "python",
   "nbconvert_exporter": "python",
   "pygments_lexer": "ipython3",
   "version": "3.13.5"
  }
 },
 "nbformat": 4,
 "nbformat_minor": 5
}
