{
 "cells": [
  {
   "cell_type": "markdown",
   "id": "83e03c04",
   "metadata": {},
   "source": [
    "# L3.3 Vectorization in Python"
   ]
  },
  {
   "cell_type": "code",
   "execution_count": 2,
   "id": "06c8e43e",
   "metadata": {},
   "outputs": [],
   "source": [
    "import numpy as np"
   ]
  },
  {
   "cell_type": "code",
   "execution_count": 3,
   "id": "e8daa11e",
   "metadata": {},
   "outputs": [],
   "source": [
    "x0,x1,x2=1.,2.,3.\n",
    "bias, w1,w2 = 0.1,0.3, 0.5\n",
    "\n",
    "x = [x0, x1, x2]\n",
    "w = [bias, w1, w2]"
   ]
  },
  {
   "cell_type": "code",
   "execution_count": 4,
   "id": "6fab1696",
   "metadata": {},
   "outputs": [
    {
     "data": {
      "text/plain": [
       "2.2"
      ]
     },
     "execution_count": 4,
     "metadata": {},
     "output_type": "execute_result"
    }
   ],
   "source": [
    "def forloop(x, w):\n",
    "    z = 0.0\n",
    "    for i in range(len(x)):\n",
    "        z += x[i] * w[i]\n",
    "    return z\n",
    "\n",
    "forloop(x, w)"
   ]
  },
  {
   "cell_type": "code",
   "execution_count": 5,
   "id": "13aa52f2",
   "metadata": {},
   "outputs": [
    {
     "data": {
      "text/plain": [
       "2.2"
      ]
     },
     "execution_count": 5,
     "metadata": {},
     "output_type": "execute_result"
    }
   ],
   "source": [
    "def listcomprehension(x, w):\n",
    "    return sum(x_i * w_i for x_i, w_i in zip(x, w))\n",
    "\n",
    "listcomprehension(x, w)"
   ]
  },
  {
   "cell_type": "code",
   "execution_count": 16,
   "id": "4a34514c",
   "metadata": {},
   "outputs": [
    {
     "name": "stdout",
     "output_type": "stream",
     "text": [
      "25054.607117180734\n",
      "25054.607117180734\n"
     ]
    }
   ],
   "source": [
    "# vectorized inplementation using NumPy\n",
    "x_vec, w_vec = np.array(x), np.array(w)\n",
    "\n",
    "z = x_vec.transpose().dot(w_vec)\n",
    "print(z)\n",
    "\n",
    "z = (x_vec.T).dot(w_vec)\n",
    "print(z)\n",
    "\n",
    "#### wrapted into function\n",
    "def vectorized(x, w):\n",
    "    return x_vec.dot(w_vec)"
   ]
  },
  {
   "cell_type": "code",
   "execution_count": 9,
   "id": "17446c0c",
   "metadata": {},
   "outputs": [],
   "source": [
    "x, w = np.random.rand(100000), np.random.rand(100000)\n",
    "x_vec, w_vec = np.array(x), np.array(w)"
   ]
  },
  {
   "cell_type": "code",
   "execution_count": 10,
   "id": "6d2544f3",
   "metadata": {},
   "outputs": [
    {
     "name": "stdout",
     "output_type": "stream",
     "text": [
      "10.9 ms ± 474 μs per loop (mean ± std. dev. of 100 runs, 10 loops each)\n"
     ]
    }
   ],
   "source": [
    "%timeit -r 100 -n 10 forloop(x, w)"
   ]
  },
  {
   "cell_type": "code",
   "execution_count": 11,
   "id": "232f3a78",
   "metadata": {},
   "outputs": [
    {
     "name": "stdout",
     "output_type": "stream",
     "text": [
      "8.47 ms ± 1.29 ms per loop (mean ± std. dev. of 100 runs, 10 loops each)\n"
     ]
    }
   ],
   "source": [
    "%timeit -r 100 -n 10 listcomprehension(x, w)"
   ]
  },
  {
   "cell_type": "code",
   "execution_count": 17,
   "id": "394b1748",
   "metadata": {},
   "outputs": [
    {
     "name": "stdout",
     "output_type": "stream",
     "text": [
      "The slowest run took 10.65 times longer than the fastest. This could mean that an intermediate result is being cached.\n",
      "4.8 μs ± 4.92 μs per loop (mean ± std. dev. of 100 runs, 10 loops each)\n"
     ]
    }
   ],
   "source": [
    "%timeit -r 100 -n 10 vectorized(x_vec, w_vec)"
   ]
  }
 ],
 "metadata": {
  "kernelspec": {
   "display_name": "venv",
   "language": "python",
   "name": "python3"
  },
  "language_info": {
   "codemirror_mode": {
    "name": "ipython",
    "version": 3
   },
   "file_extension": ".py",
   "mimetype": "text/x-python",
   "name": "python",
   "nbconvert_exporter": "python",
   "pygments_lexer": "ipython3",
   "version": "3.13.5"
  }
 },
 "nbformat": 4,
 "nbformat_minor": 5
}
